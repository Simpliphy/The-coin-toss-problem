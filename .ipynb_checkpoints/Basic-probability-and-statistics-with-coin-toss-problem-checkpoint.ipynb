{
 "cells": [
  {
   "cell_type": "markdown",
   "metadata": {},
   "source": [
    "# Probabilistic and statistical analysis of the coin toss problem\n",
    "One of the simplest problem in mechanics is the mass-spring system. The Newton equation is easily solvable using ordinary differential equation techniques. When I was doing by bachelor in physics, one of my professor insisted that we always start with the easiest system and analyse it from every angle. In quantum mechanics, we studied the harmonic oscillator (which is just a fancy and general name for a mass-spring system). During my bachelor and the beginning of my master, I solve it at least five different ways.  I've thus decided to apply the lesson of this particular teacher when doing a career path change to the field of data science. Since I have not applied probabilistic and statistical analysis for a long time, I thought that the coin toss problem was the way to refresh my memory.\n",
    "\n",
    "## 1. Bayesian approch and MCMC\n",
    "\n",
    "This first section is base on the code of [Probabilistic Programming & Bayesian Methods for Hackers](https://camdavidsonpilon.github.io/Probabilistic-Programming-and-Bayesian-Methods-for-Hackers/#contents). We will see how to calculate the probability of the parameter p of the coin toss givin the observed data.\n"
   ]
  },
  {
   "cell_type": "code",
   "execution_count": 1,
   "metadata": {
    "collapsed": false
   },
   "outputs": [],
   "source": [
    "import numpy as np\n",
    "import pymc as pm"
   ]
  },
  {
   "cell_type": "markdown",
   "metadata": {},
   "source": [
    "We will use the uniform prior with it's Beta function representation. That is with alpha = beta = 1. We use the Beta function since it it the conjugate prior to the bernouilli random function. "
   ]
  },
  {
   "cell_type": "code",
   "execution_count": 2,
   "metadata": {
    "collapsed": false
   },
   "outputs": [],
   "source": [
    "# The parameters are the bounds of the Uniform.\n",
    "p = pm.Beta('p',alpha=1,beta=1)"
   ]
  },
  {
   "cell_type": "markdown",
   "metadata": {},
   "source": [
    "### Experiment simulation"
   ]
  },
  {
   "cell_type": "code",
   "execution_count": 3,
   "metadata": {
    "collapsed": false
   },
   "outputs": [],
   "source": [
    "# set constants\n",
    "p_true = 0.05  # remember, this is unknown.\n",
    "N = 1500\n",
    "\n",
    "# Data generation\n",
    "occurrences = pm.rbernoulli(p_true, N)\n",
    "k = occurrences.sum()"
   ]
  },
  {
   "cell_type": "code",
   "execution_count": 4,
   "metadata": {
    "collapsed": false
   },
   "outputs": [
    {
     "name": "stdout",
     "output_type": "stream",
     "text": [
      "What is the observed frequency? 0.0507\n",
      "Does this equal the true frequency? False\n"
     ]
    }
   ],
   "source": [
    "# Occurrences.mean is equal to n/N.\n",
    "print(\"What is the observed frequency? %.4f\" % occurrences.mean())\n",
    "print(\"Does this equal the true frequency? %s\" % (occurrences.mean() == p_true))"
   ]
  },
  {
   "cell_type": "markdown",
   "metadata": {},
   "source": [
    "### Monte carlo calculation for estimation of the posterior"
   ]
  },
  {
   "cell_type": "code",
   "execution_count": 5,
   "metadata": {
    "collapsed": false
   },
   "outputs": [
    {
     "name": "stdout",
     "output_type": "stream",
     "text": [
      " [-----------------100%-----------------] 18000 of 18000 complete in 1.1 sec"
     ]
    }
   ],
   "source": [
    "# include the observations, which are Bernoulli\n",
    "obs = pm.Bernoulli(\"obs\", p, value=occurrences, observed=True)\n",
    "\n",
    "# To be explained in chapter 3\n",
    "mcmc = pm.MCMC([p, obs])\n",
    "mcmc.sample(18000, 1000)"
   ]
  },
  {
   "cell_type": "code",
   "execution_count": 6,
   "metadata": {
    "collapsed": false
   },
   "outputs": [],
   "source": [
    "from math import lgamma,exp,log"
   ]
  },
  {
   "cell_type": "markdown",
   "metadata": {},
   "source": [
    "### Exact posterior calculation\n",
    "\n",
    "The exact posterior can be represented with the beta function. Because the gamma function grows rapidly, we use the log-gamma to do the calculation and then do the exponential at the end. "
   ]
  },
  {
   "cell_type": "code",
   "execution_count": 7,
   "metadata": {
    "collapsed": false
   },
   "outputs": [],
   "source": [
    "a = 1.0 # for uniform prior\n",
    "b = 1.0 # for uniform prior\n",
    "x = np.linspace(0.03,0.07,100)\n",
    "\n",
    "prefactor_log = lgamma(N+a+b) - lgamma(a+k) - lgamma(N+b-k)\n",
    "factor1_log = (k+a-1)*np.log(x) \n",
    "factor2_log = (N-k+b-1)*np.log(1-x)\n",
    "\n",
    "exact_posterior = np.exp( np.repeat(prefactor_log,100 )+  factor1_log + factor2_log)"
   ]
  },
  {
   "cell_type": "code",
   "execution_count": 8,
   "metadata": {
    "collapsed": false
   },
   "outputs": [
    {
     "data": {
      "image/png": "[encoded data removed]",
      "text/plain": [
       "<matplotlib.figure.Figure at 0x7f406da59400>"
      ]
     },
     "metadata": {},
     "output_type": "display_data"
    }
   ],
   "source": [
    "%matplotlib inline\n",
    "from IPython.core.pylabtools import figsize\n",
    "from matplotlib import pyplot as plt\n",
    "\n",
    "figsize(12.5, 4)\n",
    "plt.title(\"Posterior distribution of $p_A$, the true effectiveness of site A\")\n",
    "plt.vlines(p_true, 0, 90, linestyle=\"--\", label=\"true $p$ (unknown)\")\n",
    "plt.vlines(k/N, 0, 90, linestyle=\"-\", label=\"MLE\")\n",
    "plt.plot(x, exact_posterior,  label=\"true posterior\")\n",
    "plt.hist(mcmc.trace(\"p\")[:], bins=25, histtype=\"stepfilled\", normed=True)\n",
    "plt.legend();"
   ]
  },
  {
   "cell_type": "markdown",
   "metadata": {},
   "source": [
    "## 2. Statistics\n",
    "\n",
    "## Normal estimate\n",
    "\n",
    "The first method to calculate the confidence in a parameter is to suppose that the mean follow the normal distribution. We thus need to estimate its variance with the bootstap method. The usual usage of the normal estimate is to calculate a confidence interval but I wanted to compare the results with the one obtained with the bayesian approach. The justification for the following section are in  [All of Statistics: A Concise Course in Statistical Inference](https://www.amazon.ca/All-Statistics-Concise-Statistical-Inference/dp/0387402721/ref=sr_1_1?ie=UTF8&qid=1472153873&sr=8-1&keywords=Larry+Wasserman%2C+All+of+Statistics+%3A+A+Concise+Course+in+Statistical+Inference)"
   ]
  },
  {
   "cell_type": "code",
   "execution_count": 9,
   "metadata": {
    "collapsed": false
   },
   "outputs": [],
   "source": [
    "import numpy as np\n",
    "\n",
    "number_of_samples = 10000\n",
    "number_per_sample = occurrences.shape[0]\n",
    "original_sample = occurrences*1.0\n",
    "\n",
    "indexes = np.random.randint(0,occurrences.shape[0], size=(number_of_samples, number_per_sample))"
   ]
  },
  {
   "cell_type": "code",
   "execution_count": 10,
   "metadata": {
    "collapsed": false
   },
   "outputs": [],
   "source": [
    "random_samples = original_sample[indexes]"
   ]
  },
  {
   "cell_type": "code",
   "execution_count": 11,
   "metadata": {
    "collapsed": false
   },
   "outputs": [],
   "source": [
    "means_of_random_samples = np.mean(random_samples,axis=1) \n",
    "bootstrap_variance = np.var(means_of_random_samples)\n",
    "standard_error_bootstrap = np.sqrt(bootstrap_variance)"
   ]
  },
  {
   "cell_type": "code",
   "execution_count": 12,
   "metadata": {
    "collapsed": true
   },
   "outputs": [],
   "source": [
    "maximum_likelihood_estimate = k/N"
   ]
  },
  {
   "cell_type": "code",
   "execution_count": 13,
   "metadata": {
    "collapsed": true
   },
   "outputs": [],
   "source": [
    "def gaussian(x, mu, sig):\n",
    "    return np.exp(-np.power(x - mu, 2.) / (2 * np.power(sig, 2.)))/np.sqrt(2*np.pi*sig**2)"
   ]
  },
  {
   "cell_type": "code",
   "execution_count": 14,
   "metadata": {
    "collapsed": false
   },
   "outputs": [
    {
     "data": {
      "image/png": "[encoded data removed]",
      "text/plain": [
       "<matplotlib.figure.Figure at 0x7f4065739d68>"
      ]
     },
     "metadata": {},
     "output_type": "display_data"
    }
   ],
   "source": [
    "figsize(12.5, 4)\n",
    "\n",
    "plt.title(\"Confidence distribution for MLE\")\n",
    "plt.vlines(p_true, 0, 100, linestyle=\"--\", label=\"true $p$ (unknown)\")\n",
    "plt.vlines(k/N, 0, 100, linestyle=\"-\", label=\"MLE\")\n",
    "plt.plot(x, exact_posterior,  label=\"true posterior\")\n",
    "plt.plot(x,gaussian(x, maximum_likelihood_estimate, standard_error_bootstrap), label=\"gaussian estimate\")\n",
    "plt.legend();"
   ]
  },
  {
   "cell_type": "markdown",
   "metadata": {
    "collapsed": true
   },
   "source": [
    "## Percentile confidence interval\n",
    "\n",
    "The second method to calculate the confidance in the parameter is to calculate estimate the distribution of the parameter using the bootstrap method. For the implementation, we will use the percentile method of numpy. Otherwise, we would need to calcule the cumulative distribution and then reverse it to find the corresponding values for the upper and lower bound. "
   ]
  },
  {
   "cell_type": "code",
   "execution_count": 15,
   "metadata": {
    "collapsed": false
   },
   "outputs": [
    {
     "name": "stdout",
     "output_type": "stream",
     "text": [
      "95.0 confidence interval 0.0393 and 0.0620\n"
     ]
    }
   ],
   "source": [
    "indexes = np.random.randint(0,occurrences.shape[0], size=(number_of_samples, number_per_sample))\n",
    "random_samples = original_sample[indexes]\n",
    "means_of_random_samples = np.mean(random_samples,axis=1)\n",
    "\n",
    "alpha = 0.95\n",
    "p = ((1.0-alpha)/2.0) * 100\n",
    "lower = max(0.0, np.percentile(means_of_random_samples, p))\n",
    "p = (alpha+((1.0-alpha)/2.0)) * 100\n",
    "upper = min(1.0, np.percentile(means_of_random_samples, p))\n",
    "print('%.1f confidence interval %.4f and %.4f' % (alpha*100, lower, upper))"
   ]
  },
  {
   "cell_type": "markdown",
   "metadata": {},
   "source": [
    "## p-value calculation\n",
    "\n",
    "Suppose that we have have a sample of 30 coin flip and that 22 are heads. We want to test the hypothesis of a fair coin. We will do a quick simulation to calculate the p-value. The p_value is the probability of obtaining the obtained result or a more extreme value. This exemple is given is the lecture [Statistics for Hackers](https://www.youtube.com/watch?v=Iq9DzN6mvYA) by Jake Vanderplas."
   ]
  },
  {
   "cell_type": "code",
   "execution_count": 16,
   "metadata": {
    "collapsed": false
   },
   "outputs": [],
   "source": [
    "from scipy.stats import binom\n",
    "import pymc as pm\n",
    "import timeit\n",
    "\n",
    "### Simulation method\n",
    "\n",
    "p_value_simulation = 0\n",
    "number_of_simulations = 1000000\n",
    "test_value = 22\n",
    "sample_size = 30\n",
    "probability_of_head = 0.5\n",
    "\n",
    "\n",
    "\n",
    "for i in range(number_of_simulations):\n",
    "\n",
    "    occurrences = pm.rbernoulli(probability_of_head, sample_size)\n",
    "    sum_coin_tosses = occurrences.sum()\n",
    "\n",
    "    if sum_coin_tosses >= test_value:\n",
    "        p_value_simulation += 1\n",
    " \n",
    "p_value_simulation /= number_of_simulations\n",
    "\n",
    "### Probabilistic method\n",
    "\n",
    "probability_of_less_than_value = binom.cdf(test_value-1, sample_size, probability_of_head)\n",
    "p_value_calculated = 1 - probability_of_less_than_value\n",
    "\n",
    " "
   ]
  },
  {
   "cell_type": "code",
   "execution_count": 17,
   "metadata": {
    "collapsed": false
   },
   "outputs": [
    {
     "name": "stdout",
     "output_type": "stream",
     "text": [
      "Calculated p-value: 0.008062400855123997\n",
      "Simulation p-value: 0.008228\n"
     ]
    }
   ],
   "source": [
    "print(\"Calculated p-value: {0}\".format(p_value_calculated))\n",
    "print(\"Simulation p-value: {0}\".format(p_value_simulation))    "
   ]
  },
  {
   "cell_type": "code",
   "execution_count": 18,
   "metadata": {
    "collapsed": false
   },
   "outputs": [],
   "source": [
    "from numpy.random import randint\n",
    "import time\n",
    "\n",
    "def p_value_method_1():\n",
    "    \n",
    "    p_value_simulation = 0\n",
    "    number_of_simulations = 1000000\n",
    "    test_value = 22\n",
    "    sample_size = 30\n",
    "    probability_of_head = 0.5\n",
    "\n",
    "    for i in range(number_of_simulations):\n",
    "\n",
    "        occurrences = pm.rbernoulli(probability_of_head, sample_size)\n",
    "        sum_coin_tosses = occurrences.sum()\n",
    "\n",
    "        if sum_coin_tosses >= test_value:\n",
    "            p_value_simulation += 1\n",
    "    \n",
    "    p_value_simulation /= number_of_simulations\n",
    "    \n",
    "    return p_value_simulation\n",
    "\n",
    "def p_value_method_2():\n",
    "    \n",
    "    number_of_simulations = 1000000\n",
    "    test_value = 22\n",
    "    sample_size = 30\n",
    "\n",
    "    \n",
    "    simulation_values = randint(0,2, size=(number_of_simulations, sample_size))\n",
    "    simulation_values_sums = np.sum(simulation_values, axis=1)\n",
    "    simulation_values_sums_valid = (simulation_values_sums >= test_value)\n",
    "    p_value = simulation_values_sums_valid.mean()\n",
    "    \n",
    "    return p_value\n"
   ]
  },
  {
   "cell_type": "code",
   "execution_count": 19,
   "metadata": {
    "collapsed": false
   },
   "outputs": [
    {
     "name": "stdout",
     "output_type": "stream",
     "text": [
      "1 loop, best of 3: 5.37 s per loop\n"
     ]
    }
   ],
   "source": [
    "%%timeit\n",
    "p_value_method_1()"
   ]
  },
  {
   "cell_type": "code",
   "execution_count": 20,
   "metadata": {
    "collapsed": false
   },
   "outputs": [
    {
     "name": "stdout",
     "output_type": "stream",
     "text": [
      "10 loops, best of 3: 169 ms per loop\n"
     ]
    }
   ],
   "source": [
    "%%timeit\n",
    "p_value_method_2()"
   ]
  },
  {
   "cell_type": "code",
   "execution_count": null,
   "metadata": {
    "collapsed": true
   },
   "outputs": [],
   "source": []
  }
 ],
 "metadata": {
  "kernelspec": {
   "display_name": "Python 3",
   "language": "python",
   "name": "python3"
  },
  "language_info": {
   "codemirror_mode": {
    "name": "ipython",
    "version": 3
   },
   "file_extension": ".py",
   "mimetype": "text/x-python",
   "name": "python",
   "nbconvert_exporter": "python",
   "pygments_lexer": "ipython3",
   "version": "3.6.0"
  }
 },
 "nbformat": 4,
 "nbformat_minor": 2
}
